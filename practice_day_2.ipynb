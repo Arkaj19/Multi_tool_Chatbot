{
 "cells": [
  {
   "cell_type": "markdown",
   "id": "fefd80bc",
   "metadata": {},
   "source": [
    "## List"
   ]
  },
  {
   "cell_type": "code",
   "execution_count": 1,
   "id": "e654775b",
   "metadata": {},
   "outputs": [],
   "source": [
    "mylist = [\"apple\", \"banana\", \"cherry\"]"
   ]
  },
  {
   "cell_type": "code",
   "execution_count": 2,
   "id": "f6b1db8c",
   "metadata": {},
   "outputs": [
    {
     "name": "stdout",
     "output_type": "stream",
     "text": [
      "['apple', 'banana', 'cherry']\n"
     ]
    }
   ],
   "source": [
    "print(mylist)"
   ]
  },
  {
   "cell_type": "markdown",
   "id": "15c1efe9",
   "metadata": {},
   "source": [
    "##### The list is changeable, meaning that we can change, add, and remove items in a list after it has been created."
   ]
  },
  {
   "cell_type": "code",
   "execution_count": 3,
   "id": "d44d28af",
   "metadata": {},
   "outputs": [
    {
     "name": "stdout",
     "output_type": "stream",
     "text": [
      "['apple', 'banana', 'cherry', 'apple', 'cherry']\n"
     ]
    }
   ],
   "source": [
    "thislist = [\"apple\", \"banana\", \"cherry\", \"apple\", \"cherry\"]\n",
    "print(thislist)"
   ]
  },
  {
   "cell_type": "code",
   "execution_count": 4,
   "id": "f1a1828f",
   "metadata": {},
   "outputs": [
    {
     "name": "stdout",
     "output_type": "stream",
     "text": [
      "5\n"
     ]
    }
   ],
   "source": [
    "print(len(thislist))"
   ]
  },
  {
   "cell_type": "code",
   "execution_count": 5,
   "id": "89a618d3",
   "metadata": {},
   "outputs": [],
   "source": [
    "list1 = [\"apple\", \"banana\", \"cherry\"]\n",
    "list2 = [1, 5, 7, 9, 3]\n",
    "list3 = [True, False, False]"
   ]
  },
  {
   "cell_type": "markdown",
   "id": "9c1576b5",
   "metadata": {},
   "source": [
    "##### A list can contain different data types:"
   ]
  },
  {
   "cell_type": "code",
   "execution_count": 6,
   "id": "8a3c9361",
   "metadata": {},
   "outputs": [
    {
     "name": "stdout",
     "output_type": "stream",
     "text": [
      "<class 'list'>\n"
     ]
    }
   ],
   "source": [
    "print(type(mylist))"
   ]
  },
  {
   "cell_type": "markdown",
   "id": "ebcdadd6",
   "metadata": {},
   "source": [
    "#### List is a collection which is ordered and changeable. Allows duplicate members.\n",
    "#### Tuple is a collection which is ordered and unchangeable. Allows duplicate members.\n",
    "#### Set is a collection which is unordered, unchangeable*, and unindexed. No duplicate members.\n",
    "#### Dictionary is a collection which is ordered** and changeable. No duplicate members."
   ]
  },
  {
   "cell_type": "code",
   "execution_count": 7,
   "id": "d34cb8ac",
   "metadata": {},
   "outputs": [
    {
     "name": "stdout",
     "output_type": "stream",
     "text": [
      "banana\n"
     ]
    }
   ],
   "source": [
    "print(mylist[1])"
   ]
  },
  {
   "cell_type": "code",
   "execution_count": 12,
   "id": "0510a50b",
   "metadata": {},
   "outputs": [
    {
     "name": "stdout",
     "output_type": "stream",
     "text": [
      "['apple', 'banana', 'cherry']\n",
      "cherry\n"
     ]
    }
   ],
   "source": [
    "#Negative Indexing:\n",
    "# -1 : Last element\n",
    "# -2 : Second Last Element\n",
    "\n",
    "print(mylist)\n",
    "print(mylist[-1])"
   ]
  },
  {
   "cell_type": "code",
   "execution_count": 17,
   "id": "0f2389b3",
   "metadata": {},
   "outputs": [
    {
     "name": "stdout",
     "output_type": "stream",
     "text": [
      "['apple', 'banana', 'cherry', 'apple', 'cherry']\n",
      "['banana', 'cherry', 'apple']\n",
      "['banana', 'cherry', 'apple', 'cherry']\n",
      "['cherry', 'apple']\n"
     ]
    }
   ],
   "source": [
    "print(thislist)\n",
    "print(thislist[1:4])\n",
    "print(thislist[1:])\n",
    "print(thislist[-3:-1])"
   ]
  },
  {
   "cell_type": "code",
   "execution_count": 19,
   "id": "0dbe9d0c",
   "metadata": {},
   "outputs": [
    {
     "name": "stdout",
     "output_type": "stream",
     "text": [
      "not found\n"
     ]
    }
   ],
   "source": [
    "if \"jack\" in thislist:\n",
    "    print(\"Apple found\")\n",
    "else:\n",
    "    print(\"not found\")"
   ]
  },
  {
   "cell_type": "code",
   "execution_count": 23,
   "id": "2443aecd",
   "metadata": {},
   "outputs": [
    {
     "name": "stdout",
     "output_type": "stream",
     "text": [
      "['apple', 'banana', 'jackfruit', 'Pineapple', 'apple', 'cherry']\n",
      "['apple', 'banana', 'Pineapple', 'Pineapple', 'apple', 'cherry']\n",
      "['apple', 'banana', 'jackfruit', 'Pineapple', 'Pineapple', 'apple', 'cherry']\n"
     ]
    }
   ],
   "source": [
    "# If we normally insert any value it will change the value and put the new value\n",
    "print(thislist)\n",
    "thislist[2] = 'Pineapple'\n",
    "print(thislist)\n",
    "thislist.insert(2, 'jackfruit')\n",
    "print(thislist)"
   ]
  },
  {
   "cell_type": "code",
   "execution_count": 25,
   "id": "fbc1274b",
   "metadata": {},
   "outputs": [
    {
     "name": "stdout",
     "output_type": "stream",
     "text": [
      "['banana', 'jackfruit', 'Pineapple', 'Pineapple', 'cherry']\n"
     ]
    }
   ],
   "source": [
    "thislist.remove(\"apple\")\n",
    "print(thislist)"
   ]
  },
  {
   "cell_type": "code",
   "execution_count": 26,
   "id": "a1d442e1",
   "metadata": {},
   "outputs": [
    {
     "name": "stdout",
     "output_type": "stream",
     "text": [
      "['banana', 'jackfruit', 'Pineapple', 'Pineapple']\n"
     ]
    }
   ],
   "source": [
    "thislist.pop()\n",
    "print(thislist)"
   ]
  },
  {
   "cell_type": "code",
   "execution_count": 27,
   "id": "31bdd0fd",
   "metadata": {},
   "outputs": [],
   "source": [
    "# If we want to entirely delete the list we will be using the del keyword\n",
    "# If we just want to empty the list then we will use the .clear()\n"
   ]
  },
  {
   "cell_type": "code",
   "execution_count": 28,
   "id": "731de729",
   "metadata": {},
   "outputs": [
    {
     "name": "stdout",
     "output_type": "stream",
     "text": [
      "banana\n",
      "jackfruit\n",
      "Pineapple\n",
      "Pineapple\n"
     ]
    }
   ],
   "source": [
    "for x in thislist:\n",
    "    print(x)"
   ]
  },
  {
   "cell_type": "code",
   "execution_count": 29,
   "id": "389c5cde",
   "metadata": {},
   "outputs": [
    {
     "name": "stdout",
     "output_type": "stream",
     "text": [
      "['banana', 'jackfruit', 'Pineapple', 'Pineapple']\n",
      "banana\n",
      "jackfruit\n",
      "Pineapple\n",
      "Pineapple\n"
     ]
    }
   ],
   "source": [
    "print(thislist)\n",
    "i = 0\n",
    "while i < len(thislist):\n",
    "    print(thislist[i])\n",
    "    i = i + 1"
   ]
  },
  {
   "cell_type": "code",
   "execution_count": null,
   "id": "0f62367c",
   "metadata": {},
   "outputs": [],
   "source": []
  }
 ],
 "metadata": {
  "kernelspec": {
   "display_name": ".venv",
   "language": "python",
   "name": "python3"
  },
  "language_info": {
   "codemirror_mode": {
    "name": "ipython",
    "version": 3
   },
   "file_extension": ".py",
   "mimetype": "text/x-python",
   "name": "python",
   "nbconvert_exporter": "python",
   "pygments_lexer": "ipython3",
   "version": "3.13.0"
  }
 },
 "nbformat": 4,
 "nbformat_minor": 5
}
